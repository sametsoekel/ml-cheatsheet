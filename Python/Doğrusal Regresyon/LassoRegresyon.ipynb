{
 "cells": [
  {
   "cell_type": "code",
   "execution_count": 21,
   "metadata": {},
   "outputs": [],
   "source": [
    "#Bir başka ceza uygulayarak hata karelerini azaltma\n",
    "#metodudur.\n",
    "#Değişken eleriz burda bazen, hepsi modele dahil olmayabilir.\n",
    "\n",
    "import numpy as np\n",
    "import pandas as pd\n",
    "import matplotlib.pyplot as plt\n",
    "from sklearn.metrics import mean_squared_error\n",
    "from sklearn.model_selection import train_test_split\n",
    "from sklearn.linear_model import Lasso, LassoCV"
   ]
  },
  {
   "cell_type": "code",
   "execution_count": 5,
   "metadata": {},
   "outputs": [],
   "source": [
    "hit= pd.read_csv('Hitters.csv')\n",
    "df = hit.copy()\n",
    "df = df.dropna()\n",
    "ms=pd.get_dummies(df[['League','Division','NewLeague']])\n",
    "y=df['Salary']\n",
    "X_=df.drop(['Salary','League','Division','NewLeague'],axis=1).astype('float64')\n",
    "X=pd.concat([X_,ms[['League_N','Division_W','NewLeague_N']]],axis=1)\n",
    "X_train,X_test,y_train,y_test=train_test_split(X,y,test_size=0.25,random_state=42)"
   ]
  },
  {
   "cell_type": "code",
   "execution_count": 7,
   "metadata": {},
   "outputs": [
    {
     "name": "stderr",
     "output_type": "stream",
     "text": [
      "C:\\Users\\Samet Sökel\\Anaconda3\\lib\\site-packages\\sklearn\\linear_model\\coordinate_descent.py:475: ConvergenceWarning: Objective did not converge. You might want to increase the number of iterations. Duality gap: 8249174.751388047, tolerance: 3898.686956380658\n",
      "  positive)\n"
     ]
    }
   ],
   "source": [
    "lasso_model=Lasso(alpha=0.1).fit(X_train,y_train)"
   ]
  },
  {
   "cell_type": "code",
   "execution_count": 13,
   "metadata": {},
   "outputs": [
    {
     "name": "stderr",
     "output_type": "stream",
     "text": [
      "C:\\Users\\Samet Sökel\\Anaconda3\\lib\\site-packages\\sklearn\\linear_model\\coordinate_descent.py:475: ConvergenceWarning: Objective did not converge. You might want to increase the number of iterations. Duality gap: 5469.558741439134, tolerance: 3898.686956380658\n",
      "  positive)\n",
      "C:\\Users\\Samet Sökel\\Anaconda3\\lib\\site-packages\\sklearn\\linear_model\\coordinate_descent.py:475: ConvergenceWarning: Objective did not converge. You might want to increase the number of iterations. Duality gap: 6540.147679537535, tolerance: 3898.686956380658\n",
      "  positive)\n",
      "C:\\Users\\Samet Sökel\\Anaconda3\\lib\\site-packages\\sklearn\\linear_model\\coordinate_descent.py:475: ConvergenceWarning: Objective did not converge. You might want to increase the number of iterations. Duality gap: 4001.75613726303, tolerance: 3898.686956380658\n",
      "  positive)\n",
      "C:\\Users\\Samet Sökel\\Anaconda3\\lib\\site-packages\\sklearn\\linear_model\\coordinate_descent.py:475: ConvergenceWarning: Objective did not converge. You might want to increase the number of iterations. Duality gap: 5357.77493564412, tolerance: 3898.686956380658\n",
      "  positive)\n",
      "C:\\Users\\Samet Sökel\\Anaconda3\\lib\\site-packages\\sklearn\\linear_model\\coordinate_descent.py:475: ConvergenceWarning: Objective did not converge. You might want to increase the number of iterations. Duality gap: 5543.611320462078, tolerance: 3898.686956380658\n",
      "  positive)\n",
      "C:\\Users\\Samet Sökel\\Anaconda3\\lib\\site-packages\\sklearn\\linear_model\\coordinate_descent.py:475: ConvergenceWarning: Objective did not converge. You might want to increase the number of iterations. Duality gap: 38977.90211549215, tolerance: 3898.686956380658\n",
      "  positive)\n",
      "C:\\Users\\Samet Sökel\\Anaconda3\\lib\\site-packages\\sklearn\\linear_model\\coordinate_descent.py:475: ConvergenceWarning: Objective did not converge. You might want to increase the number of iterations. Duality gap: 4436895.415746864, tolerance: 3898.686956380658\n",
      "  positive)\n",
      "C:\\Users\\Samet Sökel\\Anaconda3\\lib\\site-packages\\sklearn\\linear_model\\coordinate_descent.py:475: ConvergenceWarning: Objective did not converge. You might want to increase the number of iterations. Duality gap: 6555245.313879337, tolerance: 3898.686956380658\n",
      "  positive)\n",
      "C:\\Users\\Samet Sökel\\Anaconda3\\lib\\site-packages\\sklearn\\linear_model\\coordinate_descent.py:475: ConvergenceWarning: Objective did not converge. You might want to increase the number of iterations. Duality gap: 7517635.389992706, tolerance: 3898.686956380658\n",
      "  positive)\n",
      "C:\\Users\\Samet Sökel\\Anaconda3\\lib\\site-packages\\sklearn\\linear_model\\coordinate_descent.py:475: ConvergenceWarning: Objective did not converge. You might want to increase the number of iterations. Duality gap: 7913116.552938657, tolerance: 3898.686956380658\n",
      "  positive)\n",
      "C:\\Users\\Samet Sökel\\Anaconda3\\lib\\site-packages\\sklearn\\linear_model\\coordinate_descent.py:475: ConvergenceWarning: Objective did not converge. You might want to increase the number of iterations. Duality gap: 8063057.666015268, tolerance: 3898.686956380658\n",
      "  positive)\n",
      "C:\\Users\\Samet Sökel\\Anaconda3\\lib\\site-packages\\sklearn\\linear_model\\coordinate_descent.py:475: ConvergenceWarning: Objective did not converge. You might want to increase the number of iterations. Duality gap: 8147851.972007666, tolerance: 3898.686956380658\n",
      "  positive)\n",
      "C:\\Users\\Samet Sökel\\Anaconda3\\lib\\site-packages\\sklearn\\linear_model\\coordinate_descent.py:475: ConvergenceWarning: Objective did not converge. You might want to increase the number of iterations. Duality gap: 8195503.925140649, tolerance: 3898.686956380658\n",
      "  positive)\n",
      "C:\\Users\\Samet Sökel\\Anaconda3\\lib\\site-packages\\sklearn\\linear_model\\coordinate_descent.py:475: ConvergenceWarning: Objective did not converge. You might want to increase the number of iterations. Duality gap: 8222772.970408573, tolerance: 3898.686956380658\n",
      "  positive)\n",
      "C:\\Users\\Samet Sökel\\Anaconda3\\lib\\site-packages\\sklearn\\linear_model\\coordinate_descent.py:475: ConvergenceWarning: Objective did not converge. You might want to increase the number of iterations. Duality gap: 8238618.061152122, tolerance: 3898.686956380658\n",
      "  positive)\n",
      "C:\\Users\\Samet Sökel\\Anaconda3\\lib\\site-packages\\sklearn\\linear_model\\coordinate_descent.py:475: ConvergenceWarning: Objective did not converge. You might want to increase the number of iterations. Duality gap: 8247931.056261426, tolerance: 3898.686956380658\n",
      "  positive)\n",
      "C:\\Users\\Samet Sökel\\Anaconda3\\lib\\site-packages\\sklearn\\linear_model\\coordinate_descent.py:475: ConvergenceWarning: Objective did not converge. You might want to increase the number of iterations. Duality gap: 8254112.783082767, tolerance: 3898.686956380658\n",
      "  positive)\n",
      "C:\\Users\\Samet Sökel\\Anaconda3\\lib\\site-packages\\sklearn\\linear_model\\coordinate_descent.py:475: ConvergenceWarning: Objective did not converge. You might want to increase the number of iterations. Duality gap: 8256643.474169196, tolerance: 3898.686956380658\n",
      "  positive)\n",
      "C:\\Users\\Samet Sökel\\Anaconda3\\lib\\site-packages\\sklearn\\linear_model\\coordinate_descent.py:475: ConvergenceWarning: Objective did not converge. You might want to increase the number of iterations. Duality gap: 8256663.517485521, tolerance: 3898.686956380658\n",
      "  positive)\n",
      "C:\\Users\\Samet Sökel\\Anaconda3\\lib\\site-packages\\sklearn\\linear_model\\coordinate_descent.py:475: ConvergenceWarning: Objective did not converge. You might want to increase the number of iterations. Duality gap: 8255732.406295837, tolerance: 3898.686956380658\n",
      "  positive)\n",
      "C:\\Users\\Samet Sökel\\Anaconda3\\lib\\site-packages\\sklearn\\linear_model\\coordinate_descent.py:475: ConvergenceWarning: Objective did not converge. You might want to increase the number of iterations. Duality gap: 8254488.032216603, tolerance: 3898.686956380658\n",
      "  positive)\n",
      "C:\\Users\\Samet Sökel\\Anaconda3\\lib\\site-packages\\sklearn\\linear_model\\coordinate_descent.py:475: ConvergenceWarning: Objective did not converge. You might want to increase the number of iterations. Duality gap: 8253238.172401866, tolerance: 3898.686956380658\n",
      "  positive)\n",
      "C:\\Users\\Samet Sökel\\Anaconda3\\lib\\site-packages\\sklearn\\linear_model\\coordinate_descent.py:475: ConvergenceWarning: Objective did not converge. You might want to increase the number of iterations. Duality gap: 8252116.626715363, tolerance: 3898.686956380658\n",
      "  positive)\n",
      "C:\\Users\\Samet Sökel\\Anaconda3\\lib\\site-packages\\sklearn\\linear_model\\coordinate_descent.py:475: ConvergenceWarning: Objective did not converge. You might want to increase the number of iterations. Duality gap: 8251167.59914859, tolerance: 3898.686956380658\n",
      "  positive)\n",
      "C:\\Users\\Samet Sökel\\Anaconda3\\lib\\site-packages\\sklearn\\linear_model\\coordinate_descent.py:475: ConvergenceWarning: Objective did not converge. You might want to increase the number of iterations. Duality gap: 8250392.226499426, tolerance: 3898.686956380658\n",
      "  positive)\n",
      "C:\\Users\\Samet Sökel\\Anaconda3\\lib\\site-packages\\sklearn\\linear_model\\coordinate_descent.py:475: ConvergenceWarning: Objective did not converge. You might want to increase the number of iterations. Duality gap: 8249772.80594322, tolerance: 3898.686956380658\n",
      "  positive)\n",
      "C:\\Users\\Samet Sökel\\Anaconda3\\lib\\site-packages\\sklearn\\linear_model\\coordinate_descent.py:475: ConvergenceWarning: Objective did not converge. You might want to increase the number of iterations. Duality gap: 8249285.457096015, tolerance: 3898.686956380658\n",
      "  positive)\n",
      "C:\\Users\\Samet Sökel\\Anaconda3\\lib\\site-packages\\sklearn\\linear_model\\coordinate_descent.py:475: ConvergenceWarning: Objective did not converge. You might want to increase the number of iterations. Duality gap: 8248906.058581409, tolerance: 3898.686956380658\n",
      "  positive)\n",
      "C:\\Users\\Samet Sökel\\Anaconda3\\lib\\site-packages\\sklearn\\linear_model\\coordinate_descent.py:475: ConvergenceWarning: Objective did not converge. You might want to increase the number of iterations. Duality gap: 8248612.895175021, tolerance: 3898.686956380658\n",
      "  positive)\n",
      "C:\\Users\\Samet Sökel\\Anaconda3\\lib\\site-packages\\sklearn\\linear_model\\coordinate_descent.py:475: ConvergenceWarning: Objective did not converge. You might want to increase the number of iterations. Duality gap: 8248387.613746921, tolerance: 3898.686956380658\n",
      "  positive)\n",
      "C:\\Users\\Samet Sökel\\Anaconda3\\lib\\site-packages\\sklearn\\linear_model\\coordinate_descent.py:475: ConvergenceWarning: Objective did not converge. You might want to increase the number of iterations. Duality gap: 8248215.191106195, tolerance: 3898.686956380658\n",
      "  positive)\n",
      "C:\\Users\\Samet Sökel\\Anaconda3\\lib\\site-packages\\sklearn\\linear_model\\coordinate_descent.py:475: ConvergenceWarning: Objective did not converge. You might want to increase the number of iterations. Duality gap: 8248083.6060414985, tolerance: 3898.686956380658\n",
      "  positive)\n",
      "C:\\Users\\Samet Sökel\\Anaconda3\\lib\\site-packages\\sklearn\\linear_model\\coordinate_descent.py:475: ConvergenceWarning: Objective did not converge. You might want to increase the number of iterations. Duality gap: 8247983.409284997, tolerance: 3898.686956380658\n",
      "  positive)\n",
      "C:\\Users\\Samet Sökel\\Anaconda3\\lib\\site-packages\\sklearn\\linear_model\\coordinate_descent.py:475: ConvergenceWarning: Objective did not converge. You might want to increase the number of iterations. Duality gap: 8247907.234834639, tolerance: 3898.686956380658\n",
      "  positive)\n",
      "C:\\Users\\Samet Sökel\\Anaconda3\\lib\\site-packages\\sklearn\\linear_model\\coordinate_descent.py:475: ConvergenceWarning: Objective did not converge. You might want to increase the number of iterations. Duality gap: 8247849.397090836, tolerance: 3898.686956380658\n",
      "  positive)\n",
      "C:\\Users\\Samet Sökel\\Anaconda3\\lib\\site-packages\\sklearn\\linear_model\\coordinate_descent.py:475: ConvergenceWarning: Objective did not converge. You might want to increase the number of iterations. Duality gap: 8247805.522216827, tolerance: 3898.686956380658\n",
      "  positive)\n",
      "C:\\Users\\Samet Sökel\\Anaconda3\\lib\\site-packages\\sklearn\\linear_model\\coordinate_descent.py:475: ConvergenceWarning: Objective did not converge. You might want to increase the number of iterations. Duality gap: 8247772.261812311, tolerance: 3898.686956380658\n",
      "  positive)\n",
      "C:\\Users\\Samet Sökel\\Anaconda3\\lib\\site-packages\\sklearn\\linear_model\\coordinate_descent.py:475: ConvergenceWarning: Objective did not converge. You might want to increase the number of iterations. Duality gap: 8247747.060921376, tolerance: 3898.686956380658\n",
      "  positive)\n"
     ]
    },
    {
     "data": {
      "image/png": "[encoded data removed]",
      "text/plain": [
       "<Figure size 432x288 with 1 Axes>"
      ]
     },
     "metadata": {
      "needs_background": "light"
     },
     "output_type": "display_data"
    }
   ],
   "source": [
    "dummy_lasso =Lasso()\n",
    "lambdalar=10**np.linspace(10,-2,100)*0.5\n",
    "katsayilar = []\n",
    "\n",
    "for i in lambdalar:\n",
    "    dummy_lasso.set_params(alpha=i)\n",
    "    dummy_lasso.fit(X_train,y_train)\n",
    "    katsayilar.append(dummy_lasso.coef_)\n",
    "\n",
    "ax=plt.gca()\n",
    "ax.plot(lambdalar*2,katsayilar)\n",
    "ax.set_xscale('log')\n",
    "plt.axis('tight')\n",
    "plt.xlabel('alpha')\n",
    "plt.ylabel('weights (coefs)');"
   ]
  },
  {
   "cell_type": "code",
   "execution_count": 14,
   "metadata": {},
   "outputs": [],
   "source": [
    "##Tuning starts"
   ]
  },
  {
   "cell_type": "code",
   "execution_count": 25,
   "metadata": {},
   "outputs": [
    {
     "data": {
      "text/plain": [
       "0.39406126432470073"
      ]
     },
     "execution_count": 25,
     "metadata": {},
     "output_type": "execute_result"
    }
   ],
   "source": [
    "lasso_cv_model =LassoCV(alphas=None,\n",
    "                       cv=10,\n",
    "                       max_iter=10000,\n",
    "                       normalize=True).fit(X_train,y_train)\n",
    "#Hiç döngüye möngüye gerek yok, kendinden fonksiyonlu\n",
    "\n",
    "\n",
    "lasso_cv_model.alpha_"
   ]
  },
  {
   "cell_type": "code",
   "execution_count": 27,
   "metadata": {},
   "outputs": [
    {
     "name": "stderr",
     "output_type": "stream",
     "text": [
      "C:\\Users\\Samet Sökel\\Anaconda3\\lib\\site-packages\\sklearn\\linear_model\\coordinate_descent.py:475: ConvergenceWarning: Objective did not converge. You might want to increase the number of iterations. Duality gap: 8252823.943523974, tolerance: 3898.686956380658\n",
      "  positive)\n"
     ]
    }
   ],
   "source": [
    "lasso_tuned=Lasso(alpha=lasso_cv_model.alpha_).fit(X_train,y_train)"
   ]
  },
  {
   "cell_type": "code",
   "execution_count": 33,
   "metadata": {},
   "outputs": [],
   "source": [
    "predicted=lasso_tuned.predict(X_test)\n"
   ]
  },
  {
   "cell_type": "code",
   "execution_count": 34,
   "metadata": {},
   "outputs": [
    {
     "data": {
      "text/plain": [
       "356.5226376958365"
      ]
     },
     "execution_count": 34,
     "metadata": {},
     "output_type": "execute_result"
    }
   ],
   "source": [
    "np.sqrt(mean_squared_error(predicted,y_test))"
   ]
  },
  {
   "cell_type": "code",
   "execution_count": null,
   "metadata": {},
   "outputs": [],
   "source": []
  }
 ],
 "metadata": {
  "kernelspec": {
   "display_name": "Python 3",
   "language": "python",
   "name": "python3"
  },
  "language_info": {
   "codemirror_mode": {
    "name": "ipython",
    "version": 3
   },
   "file_extension": ".py",
   "mimetype": "text/x-python",
   "name": "python",
   "nbconvert_exporter": "python",
   "pygments_lexer": "ipython3",
   "version": "3.7.4"
  }
 },
 "nbformat": 4,
 "nbformat_minor": 2
}
