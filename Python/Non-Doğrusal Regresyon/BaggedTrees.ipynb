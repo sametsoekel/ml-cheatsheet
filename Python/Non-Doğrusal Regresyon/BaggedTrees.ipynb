{
 "cells": [
  {
   "cell_type": "code",
   "execution_count": 4,
   "metadata": {},
   "outputs": [],
   "source": [
    "#birden fazla karar ağacının birleştirilmesi..\n",
    "import pandas as pd\n",
    "import numpy as np\n",
    "from sklearn.model_selection import train_test_split,ShuffleSplit,GridSearchCV\n",
    "from sklearn.metrics import mean_squared_error,r2_score\n",
    "import matplotlib.pyplot as plt\n",
    "from sklearn import model_selection\n",
    "from sklearn.tree import DecisionTreeRegressor,DecisionTreeClassifier\n",
    "from sklearn.neighbors import KNeighborsRegressor\n",
    "from sklearn.ensemble import BaggingRegressor"
   ]
  },
  {
   "cell_type": "code",
   "execution_count": 20,
   "metadata": {},
   "outputs": [],
   "source": [
    "hit = pd.read_csv('Hitters.csv')\n",
    "df=hit.copy()\n",
    "df=df.dropna()\n",
    "ms=pd.get_dummies(df[['League','Division','NewLeague']])\n",
    "y=df['Salary']\n",
    "X_=df.drop(['Salary','League','Division','NewLeague'],axis=1).astype('float64')\n",
    "X=pd.concat([X_,ms[['League_N','Division_W','NewLeague_N']]],axis=1)\n",
    "\n",
    "X_train,X_test,y_train,y_test=train_test_split(X,y,test_size=0.25,random_state=42)\n"
   ]
  },
  {
   "cell_type": "code",
   "execution_count": 23,
   "metadata": {},
   "outputs": [
    {
     "data": {
      "text/plain": [
       "BaggingRegressor(base_estimator=None, bootstrap=True, bootstrap_features=True,\n",
       "                 max_features=1.0, max_samples=1.0, n_estimators=10,\n",
       "                 n_jobs=None, oob_score=False, random_state=None, verbose=0,\n",
       "                 warm_start=False)"
      ]
     },
     "execution_count": 23,
     "metadata": {},
     "output_type": "execute_result"
    }
   ],
   "source": [
    "bag_model=BaggingRegressor(bootstrap_features=True)\n",
    "bag_model.fit(X_train,y_train)"
   ]
  },
  {
   "cell_type": "code",
   "execution_count": 26,
   "metadata": {},
   "outputs": [
    {
     "data": {
      "text/plain": [
       "323.63004112668386"
      ]
     },
     "execution_count": 26,
     "metadata": {},
     "output_type": "execute_result"
    }
   ],
   "source": [
    "predicted=bag_model.predict(X_test)\n",
    "np.sqrt(mean_squared_error(predicted,y_test))"
   ]
  },
  {
   "cell_type": "code",
   "execution_count": 10,
   "metadata": {
    "scrolled": true
   },
   "outputs": [
    {
     "data": {
      "text/plain": [
       "[DecisionTreeRegressor(criterion='mse', max_depth=None, max_features=None,\n",
       "                       max_leaf_nodes=None, min_impurity_decrease=0.0,\n",
       "                       min_impurity_split=None, min_samples_leaf=1,\n",
       "                       min_samples_split=2, min_weight_fraction_leaf=0.0,\n",
       "                       presort=False, random_state=452947648, splitter='best'),\n",
       " DecisionTreeRegressor(criterion='mse', max_depth=None, max_features=None,\n",
       "                       max_leaf_nodes=None, min_impurity_decrease=0.0,\n",
       "                       min_impurity_split=None, min_samples_leaf=1,\n",
       "                       min_samples_split=2, min_weight_fraction_leaf=0.0,\n",
       "                       presort=False, random_state=2090565771, splitter='best'),\n",
       " DecisionTreeRegressor(criterion='mse', max_depth=None, max_features=None,\n",
       "                       max_leaf_nodes=None, min_impurity_decrease=0.0,\n",
       "                       min_impurity_split=None, min_samples_leaf=1,\n",
       "                       min_samples_split=2, min_weight_fraction_leaf=0.0,\n",
       "                       presort=False, random_state=1493701563, splitter='best'),\n",
       " DecisionTreeRegressor(criterion='mse', max_depth=None, max_features=None,\n",
       "                       max_leaf_nodes=None, min_impurity_decrease=0.0,\n",
       "                       min_impurity_split=None, min_samples_leaf=1,\n",
       "                       min_samples_split=2, min_weight_fraction_leaf=0.0,\n",
       "                       presort=False, random_state=667275641, splitter='best'),\n",
       " DecisionTreeRegressor(criterion='mse', max_depth=None, max_features=None,\n",
       "                       max_leaf_nodes=None, min_impurity_decrease=0.0,\n",
       "                       min_impurity_split=None, min_samples_leaf=1,\n",
       "                       min_samples_split=2, min_weight_fraction_leaf=0.0,\n",
       "                       presort=False, random_state=414583582, splitter='best'),\n",
       " DecisionTreeRegressor(criterion='mse', max_depth=None, max_features=None,\n",
       "                       max_leaf_nodes=None, min_impurity_decrease=0.0,\n",
       "                       min_impurity_split=None, min_samples_leaf=1,\n",
       "                       min_samples_split=2, min_weight_fraction_leaf=0.0,\n",
       "                       presort=False, random_state=1721693268, splitter='best'),\n",
       " DecisionTreeRegressor(criterion='mse', max_depth=None, max_features=None,\n",
       "                       max_leaf_nodes=None, min_impurity_decrease=0.0,\n",
       "                       min_impurity_split=None, min_samples_leaf=1,\n",
       "                       min_samples_split=2, min_weight_fraction_leaf=0.0,\n",
       "                       presort=False, random_state=507375947, splitter='best'),\n",
       " DecisionTreeRegressor(criterion='mse', max_depth=None, max_features=None,\n",
       "                       max_leaf_nodes=None, min_impurity_decrease=0.0,\n",
       "                       min_impurity_split=None, min_samples_leaf=1,\n",
       "                       min_samples_split=2, min_weight_fraction_leaf=0.0,\n",
       "                       presort=False, random_state=77755171, splitter='best'),\n",
       " DecisionTreeRegressor(criterion='mse', max_depth=None, max_features=None,\n",
       "                       max_leaf_nodes=None, min_impurity_decrease=0.0,\n",
       "                       min_impurity_split=None, min_samples_leaf=1,\n",
       "                       min_samples_split=2, min_weight_fraction_leaf=0.0,\n",
       "                       presort=False, random_state=1958559465, splitter='best'),\n",
       " DecisionTreeRegressor(criterion='mse', max_depth=None, max_features=None,\n",
       "                       max_leaf_nodes=None, min_impurity_decrease=0.0,\n",
       "                       min_impurity_split=None, min_samples_leaf=1,\n",
       "                       min_samples_split=2, min_weight_fraction_leaf=0.0,\n",
       "                       presort=False, random_state=1286407034, splitter='best')]"
      ]
     },
     "execution_count": 10,
     "metadata": {},
     "output_type": "execute_result"
    }
   ],
   "source": [
    "bag_model.estimators_ #her bir ağaca bakalım"
   ]
  },
  {
   "cell_type": "code",
   "execution_count": 11,
   "metadata": {},
   "outputs": [
    {
     "data": {
      "text/plain": [
       "[array([100,  12,  97,  33,  34,  94,  70, 166, 154, 147,  88,   6, 143,\n",
       "        106, 134,  38,   1, 134,  66, 186,  94, 164, 103, 162,  37,  34,\n",
       "        106,  46,   5,   9,  51, 149, 125, 111, 132, 162,  99,  36,  41,\n",
       "        104, 150,  28,  80, 120, 139,  90, 105,  95,  85, 177, 154, 100,\n",
       "        105,  60,  24,  65,  49,  43,  60,  27,   9, 193,  94,  38,   1,\n",
       "         99,  83, 137,  92,  52, 118,  31,  21,  59,  60, 140,  33,  10,\n",
       "        195,  11,  96,  51,  38, 139, 158,  54,  81,  11,  63, 181, 157,\n",
       "        174, 151, 162,  98, 162,  35, 193,  76,  12,  97, 135, 181,  43,\n",
       "         20, 104, 147, 111,  29, 174, 131, 157,  68, 194,  48, 101,   8,\n",
       "         76,  98, 106,  52,  26,  83, 182,  60, 132, 102,  99, 137,  33,\n",
       "        101,  43,  54, 168,   1,  25, 104, 106,  46,  61,  36, 100, 149,\n",
       "         19, 176, 132,  55,  59, 184,  59,  29,  93,  29,  62,  13,  31,\n",
       "        116, 148,   2,  43, 164,  16, 103, 194,  77, 152,  72, 112,  36,\n",
       "         89,  14,  47,  36,   6,  22, 106,  65,  24,  68, 113,  63,  77,\n",
       "        127,  14,  59,  43, 150,  83,  55, 142,  12, 107, 102,  35, 159,\n",
       "         69,  23]),\n",
       " array([ 26,  44,   7, 114, 139, 186, 120,  43,  41, 167, 119,  26, 170,\n",
       "        113, 156, 117,  36, 147,  72, 196,  28, 160, 128,  47, 132,  39,\n",
       "        190, 179, 186, 111,  95,  40, 185, 153, 148,  61,  47, 175,  10,\n",
       "         52, 189,  73,  88, 167, 147, 107, 111, 104, 164, 155, 191,  38,\n",
       "        114, 194, 109, 173,  68,  33, 108, 168,  95, 140,  34, 169, 155,\n",
       "         72, 152,   9, 120,  17, 186,   9,  73, 118,  56,  18, 119,  92,\n",
       "         44,  54,  49,  29,  40, 170,  20, 163, 144, 119, 191, 171,  11,\n",
       "         22,  94, 158,  53, 173,  95,  14, 159,  77, 117, 131, 128, 190,\n",
       "        101, 119,  74, 143, 142,  60,  24,  77,  88,  39,  74, 157, 193,\n",
       "        111, 128, 175, 171, 103,  32,  33,  77, 111,   8,  32, 143, 157,\n",
       "        187,  16, 119, 157, 167,  18,  18,  75, 127, 177,  90, 155,  41,\n",
       "         99, 138, 140, 196,  75,  70, 124,  21,  11, 191,  57, 173, 134,\n",
       "        167, 132,  74,  15,  12,   5, 117,  70, 191,  62,  80, 152,  26,\n",
       "         52,  37, 175, 145,  93,  32,  26, 156,  12,  80,  82,  34,  96,\n",
       "         72, 127,  83, 157, 109,  81,  33,  97,   2,  69, 119,  72, 180,\n",
       "        162, 117]),\n",
       " array([139, 179,   0, 179,  11,  62, 131, 185, 157,  26,  34,   8,  89,\n",
       "        100,   6, 146,   4,  99, 196,  70, 144,  57,  42,  36, 153,  82,\n",
       "         40, 110,   7, 120,  37,  71,  28,  59, 190, 156, 152,  56, 124,\n",
       "        172,  80,  58,  89,  22,  27,  16, 196, 119, 150, 192,  14, 128,\n",
       "        129, 119, 157,  52,  61,  59, 195, 108,  32, 196, 112,  55, 177,\n",
       "         39, 120,  99, 111, 171, 171,  62, 121, 111,  60, 138,  85, 100,\n",
       "        151, 196,  32,   9, 104, 106,  44, 181, 101,  16, 189,  80,  29,\n",
       "        120, 170,  34, 103,  58, 190, 126,  47, 129, 112, 155, 171, 172,\n",
       "        123,  99, 192, 144, 122,  21,  97,   1,  42,  85, 168, 196,  19,\n",
       "         20, 174, 135, 121,  66,   2,  60, 131,  10, 137, 100, 177, 165,\n",
       "         53,  26, 115, 103, 128, 128, 131,  71, 193,   5, 165,  55, 125,\n",
       "        190, 158, 149,  21, 141,  35,  88,  48, 136,  74,   3, 149, 177,\n",
       "        175, 125,  15, 113, 117,  12,   9,   7,  93, 130,  42,  19,  95,\n",
       "         77,  40,  42,  41, 159, 175, 192, 112,  22,  27,  17,  28, 193,\n",
       "         50, 156,  22,  12,  60, 142,  55, 123, 159, 167,  13,  93, 166,\n",
       "        176, 170]),\n",
       " array([108, 120,  72, 195, 173, 130, 155,  16,  36, 128,  12,  19,  60,\n",
       "         14,  59,  48,  51, 113,  31, 195,  50, 134,   7, 113, 158, 167,\n",
       "         99, 117, 120, 145, 104,  49,  81,  86,  93,  33, 183,  55,  85,\n",
       "        102, 176,  27,  64, 107,   0,  73, 140,  62,  31,  45,  88, 171,\n",
       "        152,  30, 139, 146, 173, 190, 194,  36,  42, 101,   0,  52, 123,\n",
       "         68, 195, 118,   1,  68, 103, 155,  33, 100, 193, 136, 148,  26,\n",
       "        170,  23, 152,  36,   8,  77, 134, 132, 106, 168, 172,  31,   6,\n",
       "        187, 166,  85,   7,  40,  39,  23,  96, 133, 144,   7, 130,  37,\n",
       "         31,  84, 193, 140,   2, 165, 196,  58, 124, 174,  44, 118,  91,\n",
       "         58,  43, 133,  47, 148, 104, 104,  42, 128,  81, 193,  40,  26,\n",
       "        140,  15,  49,  35,  81, 141,  48,  67, 191,  56, 113, 124, 112,\n",
       "         29, 114,  45, 194,  28,   8, 189, 105, 167, 144, 104,  61, 134,\n",
       "        131,  34,  86, 163, 186,  94,  31, 152,  54,  81, 143,  51,  24,\n",
       "        158,  35, 154, 121, 114, 138, 139,  62, 195, 130, 122, 115, 176,\n",
       "        189,   9,  48,   0,  60,  89, 166, 163, 134,  42, 107,  42,  75,\n",
       "        130,  93]),\n",
       " array([151,  84, 151, 167, 155,  77, 138, 113,  50, 135,  71,   5,  48,\n",
       "        194,  86,  98, 151, 118, 145,  47, 123, 104, 183, 119,  25,   8,\n",
       "        166,  10, 102,  52,  37, 128,  17, 101,  30, 142, 112, 160,  75,\n",
       "        172, 174,  82, 150,   6,  54,  99, 188,  83,  27,  66, 138,  55,\n",
       "         70,  75,  58,   8,  77, 168, 121,  47,  16,  36, 152, 153,  82,\n",
       "        181, 193,  11,   8, 115,  71,  87, 146,  15, 136,  35,  63, 100,\n",
       "        143, 135,  53,  63, 100,  72,  82,  98, 175, 165,  53,  62,  58,\n",
       "          7,  19,  96,  66, 135, 116, 157, 186,  62, 114, 125, 108,  27,\n",
       "         48,  51,  33,  46,  89,  65,  24,  43,  69,  60, 174, 158, 155,\n",
       "        174,  88, 179, 105,  65, 141,  91, 195,  20, 176, 103, 104,  82,\n",
       "         54,   7,  17,  58,   5,  63,  52, 132,  94, 186, 169, 164,  19,\n",
       "        166, 138,  87, 118,  26, 170, 172,  25, 185,  95,  65, 168,  58,\n",
       "        125,  78, 112,  33,  85, 178,  47, 164,  87, 144, 166, 148,  91,\n",
       "         16, 194,  43, 151, 145, 185,  10,  14,  63,  43, 156, 134,  72,\n",
       "        161,  55,  83,   0, 111,  87, 142, 123, 126, 123,  11,  49,  56,\n",
       "         94,  92]),\n",
       " array([ 76, 150,  93,   9,   0,  28, 176, 161, 120, 136, 102,  53, 162,\n",
       "        125, 129, 174,  24,  40, 195, 135,  35,  50, 187,  86, 160, 109,\n",
       "        121,  27, 123, 157, 126, 108,  38, 114, 132,  18, 160,  76,   2,\n",
       "         87, 154, 168,  15, 121, 140,  49, 176, 149,  93, 151, 117, 130,\n",
       "         70,  83, 176,  66,  41, 151,  85, 117,  33,  30, 126, 120,  16,\n",
       "         44, 165,  37, 107,  37,  88,  80, 134, 128,  23,  35,  35, 182,\n",
       "        137, 193, 155, 165, 179,  57, 119, 114, 104, 138,  66, 168, 193,\n",
       "        171,  89, 178, 113, 165, 150, 188, 112,  68, 124,  91,  36,  88,\n",
       "         61, 167, 109, 113, 110, 152, 103, 158,   7,  28, 115,  39, 166,\n",
       "         83,  17,  86, 117,  15, 117,   5,  67, 126,  29, 136,  53, 164,\n",
       "        164, 143, 190, 178, 147, 137, 177,  25,  70,  10,  26,   8, 118,\n",
       "         57,  38,   5, 109,  94, 182,  31, 157,  45,  25, 154, 173,  61,\n",
       "        168,  48,  41,  84, 134, 168, 191,  65, 180, 175,  58, 139, 119,\n",
       "        168, 194,  72,  11,  91, 157,   9,  93,  83,  97,  89,  26,  34,\n",
       "        104, 168,   1,  55,  52, 135,  81,   2,  71, 151, 129,  23, 110,\n",
       "        126,  52]),\n",
       " array([113, 161, 174, 142, 108,  29, 155,  59,  40,  55, 195, 164,  10,\n",
       "         14, 137,  47, 123,  48,  73,   4, 150, 182, 112, 164, 116,  47,\n",
       "        177,  89,  22, 181,  20, 150,  66,  80, 125, 114,  53,   6,  44,\n",
       "          6,  80, 184,  82,  43, 100,  97, 121,  39, 102, 124, 133,  90,\n",
       "        111, 107, 169,  31, 142, 126,  96, 106, 183,  30, 168, 163,  21,\n",
       "        178, 101, 155, 181,   1,  38,  59,  55, 175, 187, 154,   6, 139,\n",
       "         96,  50, 181, 157,   2, 179, 102, 103, 124, 152,   6, 105, 172,\n",
       "        181,  59, 141, 149, 175, 155, 153, 116, 149, 140, 185, 121, 171,\n",
       "         54, 177, 153,  97,  74,  24,  91,   5, 110, 193,  17,  70,  73,\n",
       "         55,  17,   1,  80, 141, 169, 168,  30, 180,  44,  93, 163,  82,\n",
       "        123, 160,  93,   2, 162,  52, 153,  36,  95, 138, 155, 176,  14,\n",
       "         66, 139,  60, 118, 163,  31, 128, 163,  56, 138, 147, 181,  10,\n",
       "         46, 175, 159, 109, 153,  84, 118, 190, 173, 118, 146, 111, 195,\n",
       "         59, 128,  97, 169,  81, 179,  88, 135, 102, 144, 118,  12,  99,\n",
       "         71,   1, 125, 159, 188,  79, 179, 155, 155,  49, 156,  50, 114,\n",
       "         43,   3]),\n",
       " array([171, 193, 133,  22, 141,  48,  45, 116, 143,  72, 168,  41,  98,\n",
       "         80,  62,  51,  55,  19, 111, 171,  22,  43, 138,  46, 122,  39,\n",
       "         70, 195,   9, 183,  45, 156,  27, 181, 136, 115, 167,  18, 144,\n",
       "         52,  11, 132, 111, 136,  70, 103, 144, 127, 139,  90,  23,  67,\n",
       "        182, 127,  71,  11, 100, 137, 158, 151, 134,  36, 172,  68, 166,\n",
       "         10,  52,  30, 192, 149,  44,  57, 124, 129, 167, 195,  61, 161,\n",
       "        116, 172,  33,  66,  76, 101,  80,  15,  41, 124, 140,  87, 181,\n",
       "         96,  38, 121,  27,   0,  42, 190, 101,  95,   9,   1,   0, 187,\n",
       "        129, 185, 166, 167,  76,  20,  78, 159, 191, 110, 106,  13,  30,\n",
       "         49, 169, 120,  70, 183, 152, 116,  78,  34,  80,  21, 167, 192,\n",
       "         73,  81,  40,  19, 161,  35,  94,   3, 137, 137, 196,   5, 133,\n",
       "        118,   0,   9,   9, 159,  57,  67,  69,  86, 137, 137,  23,  12,\n",
       "         84,  49, 181,  36,   5,  46, 114,  81,  69,  37,  47, 180, 150,\n",
       "         66, 155, 115, 191, 119,   7,  64,  25,  40,  19, 195,  62,   0,\n",
       "        131, 131,  39,  13,  72,  96, 154, 195,  11, 156, 108, 172, 182,\n",
       "         84,  47]),\n",
       " array([ 49,  51,  46,  84,  34,  17,  74, 171,  12,  62,  76,  24,  42,\n",
       "         50,  91,  78,  50,  83,  72, 185, 151,  43, 165,  60,  15,  23,\n",
       "         77,   0,   9,  14,  32,   2, 141, 193, 162,  24, 155, 161, 126,\n",
       "         99,  98, 121,  64,   5,  75, 191, 121,  64, 172, 185, 188,  17,\n",
       "         96,   0,  73,  86, 119, 145, 154, 102, 147,   5, 150,  72, 112,\n",
       "        135,  30, 145, 179,  33,  11,  49, 117, 163, 169, 169, 115,  11,\n",
       "        147, 191,  97, 173,  40,  99, 178, 130, 171, 124,  83,  81,  31,\n",
       "        164,  99,  65,  53,   9, 146, 131, 180,  21, 160, 184, 189, 105,\n",
       "         15,  95,  67, 120,  35, 127,  36, 188,   3, 158, 124, 156, 137,\n",
       "          1, 110, 126,  63, 182, 188, 189, 194, 159,   1,   3, 123,  59,\n",
       "        108,  16,  82, 186, 125,  70, 163,   1, 111, 181, 194,   8, 178,\n",
       "        158,  58,  42, 130,  36,   6,  33,  24,   3, 119,  30,   7,  93,\n",
       "        135,  93,  48, 147, 166,  18, 109,  54,  86, 177,  68, 178, 158,\n",
       "          4, 119, 153, 109, 116,  30,  61,  73, 143,  86,  58, 196,  99,\n",
       "         46, 129, 126, 125, 122,  14, 156, 133, 137,  48, 171, 170,  21,\n",
       "         90,   6]),\n",
       " array([  8, 172,  61, 105, 160, 143, 102,  60,  87,  16,   9, 116,  30,\n",
       "        138,  59, 157, 155,  94, 139, 165,  63, 141, 172,  12,   6,  11,\n",
       "        113, 157, 162,  23, 166, 188,  21,  53,  40,  48, 174,  32,   7,\n",
       "         98, 182,  21,  28, 122, 176, 147, 179, 143,  44,  95, 130,  24,\n",
       "         24, 100, 123,   1, 164,  58,  42, 189, 134, 130,  66,  74, 127,\n",
       "        117,   3,  25, 181,  65,  43,  45, 156,  91, 141,  85,   0, 142,\n",
       "        160, 169, 159,  77, 117,  51,  29,   9, 111,  69, 108,  43, 132,\n",
       "        177,  61,  95,  36, 161, 100, 144, 140, 158,  89,  32,  91, 174,\n",
       "         98,  88, 127,  95,  26,  96, 189,  97,  67, 107, 115, 149, 158,\n",
       "        118, 144, 118, 167, 138,  87,  17, 189, 168, 183, 170,  25, 169,\n",
       "         76, 134, 177,  76,  93,   6,  67, 116, 181, 109, 163,  98, 126,\n",
       "        185, 173, 100,  35, 193, 108,  55, 165, 120,  68,  38, 162, 103,\n",
       "        176,  17,  51,  70,  86, 123, 179,  60, 112,  10,  95,  40,  84,\n",
       "        148,  50,  45, 101, 106, 195, 173, 121, 134, 123, 186,  18,  93,\n",
       "         21, 152,  68,  50, 146, 111, 162, 172, 142, 187,  69, 175,  89,\n",
       "        154, 122])]"
      ]
     },
     "execution_count": 11,
     "metadata": {},
     "output_type": "execute_result"
    }
   ],
   "source": [
    "bag_model.estimators_samples_ # her bir ağacın örnekleri"
   ]
  },
  {
   "cell_type": "code",
   "execution_count": 13,
   "metadata": {},
   "outputs": [
    {
     "data": {
      "text/plain": [
       "[array([14,  5,  6, 14,  5, 18,  3, 17,  9,  8,  8,  1,  9, 17,  6,  3,  1,\n",
       "        10,  4]),\n",
       " array([ 2, 10,  6,  5,  7, 16,  6,  8,  5, 15, 11,  5,  8, 17,  6, 17, 10,\n",
       "         0, 12]),\n",
       " array([ 8, 17, 12,  8, 11,  2, 15,  2, 18, 15,  5, 13,  1,  9,  2, 12, 18,\n",
       "         2, 12]),\n",
       " array([ 7, 17,  4, 12, 18,  0,  1, 16, 15,  6,  4,  5,  9,  9,  3, 10,  2,\n",
       "        11,  4]),\n",
       " array([14, 13, 13, 15, 12,  6,  6,  3,  3,  5,  9,  7,  2,  3,  8,  9, 15,\n",
       "         2,  8]),\n",
       " array([ 1, 10,  5, 18,  0,  8,  9, 12,  1, 17,  6,  5,  6, 16, 12, 12, 11,\n",
       "        11, 18]),\n",
       " array([13, 18, 13,  2, 10, 18, 17, 16,  7,  1, 12, 18,  7, 12,  7, 11, 11,\n",
       "         4, 17]),\n",
       " array([18, 15, 17,  2, 10, 13, 15, 13, 12,  5,  5,  0, 13,  5,  1, 10, 15,\n",
       "         3, 11]),\n",
       " array([ 6, 17, 11,  0,  4,  4,  0, 14, 16,  3,  4, 14, 13,  1, 18,  7, 17,\n",
       "         5, 17]),\n",
       " array([ 5, 11, 13, 17,  0, 10,  9,  0,  7,  8, 14,  1,  2, 10,  8,  5,  5,\n",
       "         3, 13])]"
      ]
     },
     "execution_count": 13,
     "metadata": {},
     "output_type": "execute_result"
    }
   ],
   "source": [
    "bag_model.estimators_features_ #her bir ağacın kullandığı değişkenler"
   ]
  },
  {
   "cell_type": "code",
   "execution_count": 15,
   "metadata": {},
   "outputs": [
    {
     "data": {
      "text/plain": [
       "DecisionTreeRegressor(criterion='mse', max_depth=None, max_features=None,\n",
       "                      max_leaf_nodes=None, min_impurity_decrease=0.0,\n",
       "                      min_impurity_split=None, min_samples_leaf=1,\n",
       "                      min_samples_split=2, min_weight_fraction_leaf=0.0,\n",
       "                      presort=False, random_state=2090565771, splitter='best')"
      ]
     },
     "execution_count": 15,
     "metadata": {},
     "output_type": "execute_result"
    }
   ],
   "source": [
    "bag_model.estimators_[1]#ağaçların özellikleri"
   ]
  },
  {
   "cell_type": "code",
   "execution_count": 16,
   "metadata": {},
   "outputs": [],
   "source": [
    "#sadece ikinci ağacın tahminini görme"
   ]
  },
  {
   "cell_type": "code",
   "execution_count": 27,
   "metadata": {},
   "outputs": [],
   "source": [
    "iki_y_pred=bag_model.estimators_[1].fit(X_train,y_train).predict(X_test)"
   ]
  },
  {
   "cell_type": "code",
   "execution_count": 29,
   "metadata": {},
   "outputs": [
    {
     "data": {
      "text/plain": [
       "458.5457933144836"
      ]
     },
     "execution_count": 29,
     "metadata": {},
     "output_type": "execute_result"
    }
   ],
   "source": [
    "np.sqrt(mean_squared_error(iki_y_pred,y_test))"
   ]
  },
  {
   "cell_type": "code",
   "execution_count": 31,
   "metadata": {},
   "outputs": [],
   "source": [
    "#bu ağaç malın önde gideniymiş, bunu kırbaçlayacağız ilerde."
   ]
  },
  {
   "cell_type": "code",
   "execution_count": 32,
   "metadata": {},
   "outputs": [],
   "source": [
    "#HERE TUNING REIS COMES....."
   ]
  },
  {
   "cell_type": "code",
   "execution_count": 33,
   "metadata": {},
   "outputs": [
    {
     "data": {
      "text/plain": [
       "BaggingRegressor(base_estimator=None, bootstrap=True, bootstrap_features=True,\n",
       "                 max_features=1.0, max_samples=1.0, n_estimators=10,\n",
       "                 n_jobs=None, oob_score=False, random_state=None, verbose=0,\n",
       "                 warm_start=False)"
      ]
     },
     "execution_count": 33,
     "metadata": {},
     "output_type": "execute_result"
    }
   ],
   "source": [
    "bag_model=BaggingRegressor(bootstrap_features=True)\n",
    "bag_model.fit(X_train,y_train)"
   ]
  },
  {
   "cell_type": "code",
   "execution_count": 35,
   "metadata": {},
   "outputs": [],
   "source": [
    "bag_params = {'n_estimators': range(2,20)}"
   ]
  },
  {
   "cell_type": "code",
   "execution_count": 44,
   "metadata": {},
   "outputs": [
    {
     "data": {
      "text/plain": [
       "BaggingRegressor(base_estimator=None, bootstrap=True, bootstrap_features=False,\n",
       "                 max_features=1.0, max_samples=1.0, n_estimators=10,\n",
       "                 n_jobs=None, oob_score=False, random_state=42, verbose=0,\n",
       "                 warm_start=False)"
      ]
     },
     "execution_count": 44,
     "metadata": {},
     "output_type": "execute_result"
    }
   ],
   "source": [
    "bag_dummy_model=BaggingRegressor(random_state=42)\n",
    "bag_dummy_model.fit(X_train,y_train)"
   ]
  },
  {
   "cell_type": "code",
   "execution_count": 50,
   "metadata": {},
   "outputs": [],
   "source": [
    "bag_cv_model=GridSearchCV(bag_dummy_model,bag_params,cv=10)"
   ]
  },
  {
   "cell_type": "code",
   "execution_count": 51,
   "metadata": {},
   "outputs": [
    {
     "name": "stderr",
     "output_type": "stream",
     "text": [
      "C:\\Users\\Samet Sökel\\Anaconda3\\lib\\site-packages\\sklearn\\model_selection\\_search.py:814: DeprecationWarning: The default of the `iid` parameter will change from True to False in version 0.22 and will be removed in 0.24. This will change numeric results when test-set sizes are unequal.\n",
      "  DeprecationWarning)\n"
     ]
    },
    {
     "data": {
      "text/plain": [
       "GridSearchCV(cv=10, error_score='raise-deprecating',\n",
       "             estimator=BaggingRegressor(base_estimator=None, bootstrap=True,\n",
       "                                        bootstrap_features=False,\n",
       "                                        max_features=1.0, max_samples=1.0,\n",
       "                                        n_estimators=10, n_jobs=None,\n",
       "                                        oob_score=False, random_state=42,\n",
       "                                        verbose=0, warm_start=False),\n",
       "             iid='warn', n_jobs=None, param_grid={'n_estimators': range(2, 20)},\n",
       "             pre_dispatch='2*n_jobs', refit=True, return_train_score=False,\n",
       "             scoring=None, verbose=0)"
      ]
     },
     "execution_count": 51,
     "metadata": {},
     "output_type": "execute_result"
    }
   ],
   "source": [
    "bag_cv_model.fit(X_train,y_train)"
   ]
  },
  {
   "cell_type": "code",
   "execution_count": 52,
   "metadata": {},
   "outputs": [
    {
     "data": {
      "text/plain": [
       "{'n_estimators': 14}"
      ]
     },
     "execution_count": 52,
     "metadata": {},
     "output_type": "execute_result"
    }
   ],
   "source": [
    "bag_cv_model.best_params_"
   ]
  },
  {
   "cell_type": "code",
   "execution_count": 53,
   "metadata": {},
   "outputs": [
    {
     "data": {
      "text/plain": [
       "BaggingRegressor(base_estimator=None, bootstrap=True, bootstrap_features=False,\n",
       "                 max_features=1.0, max_samples=1.0, n_estimators=14,\n",
       "                 n_jobs=None, oob_score=False, random_state=42, verbose=0,\n",
       "                 warm_start=False)"
      ]
     },
     "execution_count": 53,
     "metadata": {},
     "output_type": "execute_result"
    }
   ],
   "source": [
    "bag_tuned=BaggingRegressor(random_state=42,n_estimators=14)\n",
    "bag_tuned.fit(X_train,y_train)"
   ]
  },
  {
   "cell_type": "code",
   "execution_count": 54,
   "metadata": {},
   "outputs": [
    {
     "data": {
      "text/plain": [
       "363.89112389223493"
      ]
     },
     "execution_count": 54,
     "metadata": {},
     "output_type": "execute_result"
    }
   ],
   "source": [
    "predictedtuned=bag_tuned.predict(X_test)\n",
    "np.sqrt(mean_squared_error(predictedtuned,y_test))"
   ]
  },
  {
   "cell_type": "code",
   "execution_count": null,
   "metadata": {},
   "outputs": [],
   "source": []
  }
 ],
 "metadata": {
  "kernelspec": {
   "display_name": "Python 3",
   "language": "python",
   "name": "python3"
  },
  "language_info": {
   "codemirror_mode": {
    "name": "ipython",
    "version": 3
   },
   "file_extension": ".py",
   "mimetype": "text/x-python",
   "name": "python",
   "nbconvert_exporter": "python",
   "pygments_lexer": "ipython3",
   "version": "3.7.4"
  }
 },
 "nbformat": 4,
 "nbformat_minor": 2
}
